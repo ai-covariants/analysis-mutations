{
 "cells": [
  {
   "cell_type": "code",
   "execution_count": 33,
   "id": "6b00923c",
   "metadata": {
    "id": "6b00923c"
   },
   "outputs": [],
   "source": [
    "from Bio.SeqIO.FastaIO import SimpleFastaParser\n",
    "#import functools\n",
    "#import operator\n",
    "\n",
    "from Bio.Seq import Seq\n",
    "from Bio import SeqIO\n",
    "\n",
    "from sklearn.decomposition import PCA\n",
    "import matplotlib.pyplot as plot\n",
    "\n",
    "# Creating a Sequence\n",
    "\n",
    "\n",
    "from matplotlib import pyplot as plt\n",
    "\n",
    "from collections import Counter\n",
    "\n",
    "import pandas as pd\n",
    "import numpy as np\n",
    "import math\n",
    "import seaborn as sb\n",
    "\n",
    "\n",
    "# In[2]:\n",
    "\n",
    "\n",
    "\n",
    "\n",
    "\n",
    "\n",
    "# In[10]:\n",
    "\n",
    "\n",
    "def build_kmers(sequence, ksize):\n",
    "    kmers = []\n",
    "    n_kmers = len(sequence) - ksize + 1\n",
    "\n",
    "    for i in range(n_kmers):\n",
    "        kmer = sequence[i:i + ksize]\n",
    "        kmers.append(kmer)\n",
    "\n",
    "    return kmers\n",
    "\n",
    "k = 3\n",
    "\n",
    "\n",
    "##try k = 3\n",
    "##k = 18 onwards is useless\n",
    "\n",
    "\n",
    "\n",
    "\n",
    "\n",
    "# In[12]:\n",
    "\n",
    "G = []\n",
    "inputFasta = 'sample.fasta'\n",
    "ffile = SeqIO.parse(inputFasta, 'fasta')\n",
    "# iterate through each sequence in the fasta file\n",
    "for seq_record in ffile:\n",
    "    # extract just the accession number to use as ID\n",
    "    id_name = str(seq_record.id)\n",
    "    sequence = seq_record\n",
    "    seq = sequence.seq.rstrip(\"N\")\n",
    "    covid = build_kmers(seq,k)\n",
    "    G.append('{},{}'.format(id_name, covid))\n",
    "\n"
   ]
  },
  {
   "cell_type": "code",
   "execution_count": 34,
   "id": "3b670db4",
   "metadata": {
    "colab": {
     "base_uri": "https://localhost:8080/"
    },
    "id": "3b670db4",
    "outputId": "1b84a898-73d0-42d7-83fb-87aa3094cd36"
   },
   "outputs": [
    {
     "name": "stderr",
     "output_type": "stream",
     "text": [
      "IOPub data rate exceeded.\n",
      "The notebook server will temporarily stop sending output\n",
      "to the client in order to avoid crashing it.\n",
      "To change this limit, set the config variable\n",
      "`--NotebookApp.iopub_data_rate_limit`.\n",
      "\n",
      "Current values:\n",
      "NotebookApp.iopub_data_rate_limit=1000000.0 (bytes/sec)\n",
      "NotebookApp.rate_limit_window=3.0 (secs)\n",
      "\n"
     ]
    }
   ],
   "source": []
  },
  {
   "cell_type": "code",
   "execution_count": 36,
   "id": "fbaaae34",
   "metadata": {
    "colab": {
     "base_uri": "https://localhost:8080/"
    },
    "id": "fbaaae34",
    "outputId": "a03ed218-9cc1-4322-d2f2-9ba3c8468ba2",
    "scrolled": true
   },
   "outputs": [
    {
     "name": "stdout",
     "output_type": "stream",
     "text": [
      "                                                     0\n",
      "0             BetaCoV/Finland/1/2020|EPI_ISL_407079,[]\n",
      "1    BetaCoV/Finland/1/2020|EPI_ISL_407079,[Seq('AT...\n",
      "2    BetaCoV/Wuhan/HBCDC-HB-04/2019|EPI_ISL_412900,...\n",
      "3    BetaCoV/Shenzhen/SZTH-001/2020|EPI_ISL_406592,...\n",
      "4    BetaCoV/Beijing/IVDC-BJ-005/2020|EPI_ISL_40848...\n",
      "..                                                 ...\n",
      "178  BetaCoV/France/IDF0372-isl/2020|EPI_ISL_410720...\n",
      "179  BetaCoV/France/IDF0386-islP1/2020|EPI_ISL_4112...\n",
      "180  BetaCoV/France/IDF0386-islP3/2020|EPI_ISL_4112...\n",
      "181  BetaCoV/Hong,[Seq('ATC'), Seq('TCT'), Seq('CTG...\n",
      "182  BetaCoV/Sydney/3/2020|EPI_ISL_408977,[Seq('ATC...\n",
      "\n",
      "[183 rows x 1 columns]\n"
     ]
    }
   ],
   "source": [
    "# perform PCA analysis\n",
    "df = pd.DataFrame(G)\n",
    "print (df)\n",
    "df.to_csv(\"Genome_3mer.csv\")\n",
    "\n"
   ]
  },
  {
   "cell_type": "code",
   "execution_count": 36,
   "id": "810f3142",
   "metadata": {
    "id": "810f3142"
   },
   "outputs": [],
   "source": []
  },
  {
   "cell_type": "code",
   "execution_count": 36,
   "id": "f361d708",
   "metadata": {
    "id": "f361d708"
   },
   "outputs": [],
   "source": []
  }
 ],
 "metadata": {
  "colab": {
   "name": "24 Nov 3-mer.ipynb",
   "provenance": []
  },
  "kernelspec": {
   "display_name": "Python 3",
   "language": "python",
   "name": "python3"
  },
  "language_info": {
   "codemirror_mode": {
    "name": "ipython",
    "version": 3
   },
   "file_extension": ".py",
   "mimetype": "text/x-python",
   "name": "python",
   "nbconvert_exporter": "python",
   "pygments_lexer": "ipython3",
   "version": "3.8.8"
  }
 },
 "nbformat": 4,
 "nbformat_minor": 5
}
