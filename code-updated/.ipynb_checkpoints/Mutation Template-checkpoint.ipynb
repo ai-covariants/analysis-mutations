{
 "cells": [
  {
   "cell_type": "markdown",
   "id": "5543c0db",
   "metadata": {},
   "source": [
    "### This notebook can be used to mutate a DNA sequence based on the rule that A will be converted to G, G will be converted to A, T will be converted to C and C will be converted to T"
   ]
  },
  {
   "cell_type": "code",
   "execution_count": null,
   "id": "beda3e81",
   "metadata": {},
   "outputs": [],
   "source": [
    "from pysam import FastaFile\n",
    "import pandas as pd\n",
    "import random\n",
    "import numpy as np"
   ]
  },
  {
   "cell_type": "code",
   "execution_count": null,
   "id": "8795023b",
   "metadata": {},
   "outputs": [],
   "source": [
    "fasta_data = \"genomic.fna\"\n",
    "data = FastaFile(fasta_data)\n",
    "##randomly choose one from the fai file created\n",
    "first_sequence = data['JX869059.2']\n",
    "##data cleaning to remove letter N\n",
    "##please ensure only ACGT are present\n",
    "first_sequence = first_sequence.replace(\"N\",\"\")"
   ]
  },
  {
   "cell_type": "code",
   "execution_count": null,
   "id": "53db553e",
   "metadata": {},
   "outputs": [],
   "source": [
    "# x = number of mutations\n",
    "def mutate(first_sequence,x):\n",
    "    n = 2000\n",
    "    if x == 1:\n",
    "        while (n < 10000):\n",
    "            sequence_new = first_sequence\n",
    "            for sequence in sequence_new[n]:\n",
    "                if sequence == 'A':\n",
    "                    sequence_new = sequence_new[0:n]+'G'+sequence_new[n+1:]\n",
    "                elif sequence =='G':\n",
    "                    sequence_new = sequence_new[0:n]+'A'+sequence_new[n+1:]\n",
    "                elif sequence =='C':\n",
    "                    sequence_new = sequence_new[0:n]+'T'+sequence_new[n+1:]\n",
    "                else:\n",
    "                    sequence_new = sequence_new[0:n]+'C'+sequence_new[n+1:]  \n",
    "            print('Check the previous 1000 sequence and current mutated 900 sequence:',n, sequence_new[n-1000:n+900:100])\n",
    "            string = \">New Sequence\\n\"\n",
    "            print(string, sequence_new,  file=open('mutation'+str(n)+'.fasta', 'w'))\n",
    "            n += 1000\n",
    "    else:\n",
    "        while n < 10000:\n",
    "            sequence_new = first_sequence\n",
    "            for x in range(n,n+900,100):\n",
    "                for sequence in sequence_new[x]:\n",
    "                    if sequence == 'A':\n",
    "                        sequence_new = sequence_new[0:x]+'G'+sequence_new[x+1:]\n",
    "                    elif sequence =='G':\n",
    "                        sequence_new = sequence_new[0:x]+'A'+sequence_new[x+1:]\n",
    "                    elif sequence =='C':\n",
    "                        sequence_new = sequence_new[0:x]+'T'+sequence_new[x+1:]\n",
    "                    else:\n",
    "                        sequence_new = sequence_new[0:x]+'C'+ sequence_new[x+1:]  \n",
    "            print('Check the previous 1000 sequence and next current 900 sequence:',n, sequence_new[n-1000:n+900:100])\n",
    "            string = \">New Sequence\\n\"\n",
    "            print(string, sequence_new,  file=open('mutation'+str(n)+'.fasta', 'w'))\n",
    "            n += 1000  \n",
    "    print('Loop stop')"
   ]
  },
  {
   "cell_type": "code",
   "execution_count": null,
   "id": "161c8ec3",
   "metadata": {},
   "outputs": [],
   "source": [
    "mming = mutate(first_sequence,2)"
   ]
  }
 ],
 "metadata": {
  "kernelspec": {
   "display_name": "Python 3 (ipykernel)",
   "language": "python",
   "name": "python3"
  },
  "language_info": {
   "codemirror_mode": {
    "name": "ipython",
    "version": 3
   },
   "file_extension": ".py",
   "mimetype": "text/x-python",
   "name": "python",
   "nbconvert_exporter": "python",
   "pygments_lexer": "ipython3",
   "version": "3.9.12"
  }
 },
 "nbformat": 4,
 "nbformat_minor": 5
}
